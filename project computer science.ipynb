{
 "cells": [
  {
   "cell_type": "code",
   "execution_count": null,
   "id": "eb26aa6c-5c0d-438d-8d62-3f4677c410c4",
   "metadata": {},
   "outputs": [
    {
     "name": "stdout",
     "output_type": "stream",
     "text": [
      "1 - addition\n",
      "2 - substraction\n",
      "3- multiplication\n",
      "4- division\n",
      "5- power\n",
      "6- square root\n",
      "7 - exit\n"
     ]
    },
    {
     "name": "stdin",
     "output_type": "stream",
     "text": [
      "enter choise: 1\n",
      "enter first number: 3\n",
      "enter second number: 4\n"
     ]
    },
    {
     "name": "stdout",
     "output_type": "stream",
     "text": [
      "answer is 7.0\n",
      "1 - addition\n",
      "2 - substraction\n",
      "3- multiplication\n",
      "4- division\n",
      "5- power\n",
      "6- square root\n",
      "7 - exit\n"
     ]
    },
    {
     "name": "stdin",
     "output_type": "stream",
     "text": [
      "enter choise: 3\n",
      "enter first number: 3\n",
      "enter second number: 4\n"
     ]
    },
    {
     "name": "stdout",
     "output_type": "stream",
     "text": [
      "answer is 12.0\n",
      "1 - addition\n",
      "2 - substraction\n",
      "3- multiplication\n",
      "4- division\n",
      "5- power\n",
      "6- square root\n",
      "7 - exit\n"
     ]
    },
    {
     "name": "stdin",
     "output_type": "stream",
     "text": [
      "enter choise: 4\n",
      "enter first number: 9\n",
      "enter second number: 0\n"
     ]
    },
    {
     "name": "stdout",
     "output_type": "stream",
     "text": [
      "invalid input\n",
      "1 - addition\n",
      "2 - substraction\n",
      "3- multiplication\n",
      "4- division\n",
      "5- power\n",
      "6- square root\n",
      "7 - exit\n"
     ]
    },
    {
     "name": "stdin",
     "output_type": "stream",
     "text": [
      "enter choise: 4\n",
      "enter first number: 0\n",
      "enter second number: 9\n"
     ]
    },
    {
     "name": "stdout",
     "output_type": "stream",
     "text": [
      "answer is 0.0\n",
      "1 - addition\n",
      "2 - substraction\n",
      "3- multiplication\n",
      "4- division\n",
      "5- power\n",
      "6- square root\n",
      "7 - exit\n"
     ]
    },
    {
     "name": "stdin",
     "output_type": "stream",
     "text": [
      "enter choise: 5\n",
      "enter  number: -2\n"
     ]
    },
    {
     "name": "stdout",
     "output_type": "stream",
     "text": [
      "answer is 4.0\n",
      "1 - addition\n",
      "2 - substraction\n",
      "3- multiplication\n",
      "4- division\n",
      "5- power\n",
      "6- square root\n",
      "7 - exit\n"
     ]
    },
    {
     "name": "stdin",
     "output_type": "stream",
     "text": [
      "enter choise: 6\n",
      "enter number: 6\n"
     ]
    },
    {
     "name": "stdout",
     "output_type": "stream",
     "text": [
      "answer is 2.449489742783178\n",
      "1 - addition\n",
      "2 - substraction\n",
      "3- multiplication\n",
      "4- division\n",
      "5- power\n",
      "6- square root\n",
      "7 - exit\n"
     ]
    }
   ],
   "source": [
    "\n",
    "       \n",
    "        \n",
    "import math\n",
    "def calculater():\n",
    "    while True:\n",
    "      print('1 - addition')\n",
    "      print('2 - substraction')\n",
    "      print('3- multiplication')\n",
    "      print('4- division')\n",
    "      print('5- power' )\n",
    "      print('6- square root')\n",
    "      print('7 - exit')\n",
    "      choice = input('enter choise:')\n",
    "      if choice == '1':\n",
    "          num1 = float(input('enter first number:'))\n",
    "          num2 = float(input('enter second number:'))\n",
    "          print('answer is', num1+num2)\n",
    "      elif choice == '2':\n",
    "          num1 = float(input('enter first number:'))\n",
    "          num2 = float(input('enter second number:'))\n",
    "          print('answer is', num1-num2) \n",
    "      elif choice == '3':\n",
    "          num1 = float(input('enter first number:'))\n",
    "          num2 = float(input('enter second number:'))\n",
    "          print('answer is', num1*num2) \n",
    "      elif choice == '4':\n",
    "          num1 = float(input('enter first number:'))\n",
    "          num2 = float(input('enter second number:'))\n",
    "          if num2 != 0:\n",
    "            print('answer is', num1/num2)\n",
    "          else:\n",
    "              print('invalid input')\n",
    "      elif choice == '5':\n",
    "          num = float(input('enter  number:'))\n",
    "          print('answer is', num**2) \n",
    "      elif choice == '6':\n",
    "          num = float(input('enter number:'))\n",
    "          if num > 0:\n",
    "            print('answer is', math.sqrt(num))\n",
    "          else:\n",
    "              print('invalid input') \n",
    "      elif choice == '7':\n",
    "          print('exit')\n",
    "          break\n",
    "      else:\n",
    "          print('invalid input')\n",
    "answer = calculater()\n",
    "\n",
    "\n",
    "          \n",
    "\n",
    "\n",
    "    \n",
    "                \n",
    "            \n",
    "            \n",
    "        \n",
    "    "
   ]
  },
  {
   "cell_type": "code",
   "execution_count": null,
   "id": "4f716ddb-83ee-4803-b714-b191afdaa588",
   "metadata": {},
   "outputs": [],
   "source": []
  },
  {
   "cell_type": "code",
   "execution_count": null,
   "id": "ba9727a5-1581-42ea-bd3e-b1d5f409b9e2",
   "metadata": {},
   "outputs": [],
   "source": []
  }
 ],
 "metadata": {
  "kernelspec": {
   "display_name": "Python [conda env:base] *",
   "language": "python",
   "name": "conda-base-py"
  },
  "language_info": {
   "codemirror_mode": {
    "name": "ipython",
    "version": 3
   },
   "file_extension": ".py",
   "mimetype": "text/x-python",
   "name": "python",
   "nbconvert_exporter": "python",
   "pygments_lexer": "ipython3",
   "version": "3.13.5"
  }
 },
 "nbformat": 4,
 "nbformat_minor": 5
}
