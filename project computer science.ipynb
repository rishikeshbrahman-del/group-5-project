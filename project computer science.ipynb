{
 "cells": [
  {
   "cell_type": "markdown",
   "id": "ad544b54-b99d-4bd5-85aa-4876e865dce2",
   "metadata": {},
   "source": [
    "## 🧮 Interactive Calculator Program ##  \n",
    "\n",
    "## Task Description ##  \n",
    "The goal of this task is to create an interactive calculator that can:\n",
    "\n",
    "Perform addition, subtraction, multiplication, division,\n",
    "Compute power and square root and \n",
    "Exit when the user chooses to.\n",
    "We will implement the calculator using functions.\n",
    "The program will keep running in a loop until the user selects exit.\n",
    "\n",
    "Team Member: [1.Shiler Rahmani koukia 2.Praveen Abhayanatha 3.Behzad Bayat 4.Rishikesh Aditya Brahman 5.Muhammad Arsalan Durrani]"
   ]
  },
  {
   "cell_type": "markdown",
   "id": "9cbdded7-d4a4-4916-86b2-673a15330c1f",
   "metadata": {},
   "source": [
    "## Algorithm of the Solution ##\n",
    "Display a menu of operations to the user.  \n",
    "Take user input to choose an operation.  \n",
    "Based on the choice:  \n",
    "If it is addition, subtraction, multiplication, or division → ask for two numbers.  \n",
    "If it is power → get power to 2.  \n",
    "If it is square root → ask for one number.  \n",
    "Perform the calculation.  \n",
    "Show the result.  \n",
    "Repeat until the user selects \"exit\"."
   ]
  },
  {
   "cell_type": "code",
   "execution_count": 2,
   "id": "eb26aa6c-5c0d-438d-8d62-3f4677c410c4",
   "metadata": {},
   "outputs": [
    {
     "name": "stdout",
     "output_type": "stream",
     "text": [
      "1 - addition\n",
      "2 - substraction\n",
      "3- multiplication\n",
      "4- division\n",
      "5- power\n",
      "6- square root\n",
      "7 - exit\n"
     ]
    },
    {
     "name": "stdin",
     "output_type": "stream",
     "text": [
      "enter choise: 1\n"
     ]
    },
    {
     "name": "stdout",
     "output_type": "stream",
     "text": [
      "1\n"
     ]
    },
    {
     "name": "stdin",
     "output_type": "stream",
     "text": [
      "enter first number: 2\n",
      "enter second number: 3\n"
     ]
    },
    {
     "name": "stdout",
     "output_type": "stream",
     "text": [
      "first number: 2.0\n",
      "second number: 3.0\n",
      "answer is 5.0\n",
      "1 - addition\n",
      "2 - substraction\n",
      "3- multiplication\n",
      "4- division\n",
      "5- power\n",
      "6- square root\n",
      "7 - exit\n"
     ]
    },
    {
     "name": "stdin",
     "output_type": "stream",
     "text": [
      "enter choise: 2\n"
     ]
    },
    {
     "name": "stdout",
     "output_type": "stream",
     "text": [
      "2\n"
     ]
    },
    {
     "name": "stdin",
     "output_type": "stream",
     "text": [
      "enter first number: 4\n",
      "enter second number: 3\n"
     ]
    },
    {
     "name": "stdout",
     "output_type": "stream",
     "text": [
      "first number: 4.0\n",
      "second number: 3.0\n",
      "answer is 1.0\n",
      "1 - addition\n",
      "2 - substraction\n",
      "3- multiplication\n",
      "4- division\n",
      "5- power\n",
      "6- square root\n",
      "7 - exit\n"
     ]
    },
    {
     "name": "stdin",
     "output_type": "stream",
     "text": [
      "enter choise: 3\n"
     ]
    },
    {
     "name": "stdout",
     "output_type": "stream",
     "text": [
      "3\n"
     ]
    },
    {
     "name": "stdin",
     "output_type": "stream",
     "text": [
      "enter first number: 4\n",
      "enter second number: 2\n"
     ]
    },
    {
     "name": "stdout",
     "output_type": "stream",
     "text": [
      "first number: 4.0\n",
      "second number: 2.0\n",
      "answer is 8.0\n",
      "1 - addition\n",
      "2 - substraction\n",
      "3- multiplication\n",
      "4- division\n",
      "5- power\n",
      "6- square root\n",
      "7 - exit\n"
     ]
    },
    {
     "name": "stdin",
     "output_type": "stream",
     "text": [
      "enter choise: 4\n"
     ]
    },
    {
     "name": "stdout",
     "output_type": "stream",
     "text": [
      "4\n"
     ]
    },
    {
     "name": "stdin",
     "output_type": "stream",
     "text": [
      "enter first number: 2\n",
      "enter second number: 3\n"
     ]
    },
    {
     "name": "stdout",
     "output_type": "stream",
     "text": [
      "first number: 2.0\n",
      "second number: 3.0\n",
      "answer is 0.6666666666666666\n",
      "1 - addition\n",
      "2 - substraction\n",
      "3- multiplication\n",
      "4- division\n",
      "5- power\n",
      "6- square root\n",
      "7 - exit\n"
     ]
    },
    {
     "name": "stdin",
     "output_type": "stream",
     "text": [
      "enter choise: 4\n"
     ]
    },
    {
     "name": "stdout",
     "output_type": "stream",
     "text": [
      "4\n"
     ]
    },
    {
     "name": "stdin",
     "output_type": "stream",
     "text": [
      "enter first number: 2\n",
      "enter second number: 0\n"
     ]
    },
    {
     "name": "stdout",
     "output_type": "stream",
     "text": [
      "first number: 2.0\n",
      "second number: 0.0\n",
      "invalid input\n",
      "1 - addition\n",
      "2 - substraction\n",
      "3- multiplication\n",
      "4- division\n",
      "5- power\n",
      "6- square root\n",
      "7 - exit\n"
     ]
    },
    {
     "name": "stdin",
     "output_type": "stream",
     "text": [
      "enter choise: 5\n"
     ]
    },
    {
     "name": "stdout",
     "output_type": "stream",
     "text": [
      "5\n"
     ]
    },
    {
     "name": "stdin",
     "output_type": "stream",
     "text": [
      "enter  number: 4\n"
     ]
    },
    {
     "name": "stdout",
     "output_type": "stream",
     "text": [
      "number: 4.0\n",
      "answer is 16.0\n",
      "1 - addition\n",
      "2 - substraction\n",
      "3- multiplication\n",
      "4- division\n",
      "5- power\n",
      "6- square root\n",
      "7 - exit\n"
     ]
    },
    {
     "name": "stdin",
     "output_type": "stream",
     "text": [
      "enter choise: 6\n"
     ]
    },
    {
     "name": "stdout",
     "output_type": "stream",
     "text": [
      "6\n"
     ]
    },
    {
     "name": "stdin",
     "output_type": "stream",
     "text": [
      "enter number: -2\n"
     ]
    },
    {
     "name": "stdout",
     "output_type": "stream",
     "text": [
      "number: -2.0\n",
      "invalid input\n",
      "1 - addition\n",
      "2 - substraction\n",
      "3- multiplication\n",
      "4- division\n",
      "5- power\n",
      "6- square root\n",
      "7 - exit\n"
     ]
    },
    {
     "name": "stdin",
     "output_type": "stream",
     "text": [
      "enter choise: 6\n"
     ]
    },
    {
     "name": "stdout",
     "output_type": "stream",
     "text": [
      "6\n"
     ]
    },
    {
     "name": "stdin",
     "output_type": "stream",
     "text": [
      "enter number: 16\n"
     ]
    },
    {
     "name": "stdout",
     "output_type": "stream",
     "text": [
      "number: 16.0\n",
      "answer is 4.0\n",
      "1 - addition\n",
      "2 - substraction\n",
      "3- multiplication\n",
      "4- division\n",
      "5- power\n",
      "6- square root\n",
      "7 - exit\n"
     ]
    },
    {
     "name": "stdin",
     "output_type": "stream",
     "text": [
      "enter choise: 7\n"
     ]
    },
    {
     "name": "stdout",
     "output_type": "stream",
     "text": [
      "7\n",
      "exit\n"
     ]
    }
   ],
   "source": [
    "import math\n",
    "def calculater():\n",
    "    while True:\n",
    "      print('1 - addition') #when I enter num 1 it means addition\n",
    "      print('2 - substraction') #when I enter num 2 it means substraction\n",
    "      print('3- multiplication') #when I enter num 3 it means multiplication\n",
    "      print('4- division') #when I enter num 4 it means division\n",
    "      print('5- power' ) #when I enter num 5 it means power\n",
    "      print('6- square root') #when I enter num 2 it means square root\n",
    "      print('7 - exit') #when I enter num 2 it means exit\n",
    "      choice = input('enter choise:')\n",
    "      print(choice)  \n",
    "      if choice == '1':\n",
    "          num1 = float(input('enter first number:')) #enter your 1st num\n",
    "          num2 = float(input('enter second number:')) #enter your 2nd num\n",
    "          print('first number:',num1)\n",
    "          print('second number:',num2)\n",
    "          print('answer is', num1+num2) #it will print the answer\n",
    "      elif choice == '2':\n",
    "          num1 = float(input('enter first number:'))\n",
    "          num2 = float(input('enter second number:'))\n",
    "          print('first number:',num1)\n",
    "          print('second number:',num2)\n",
    "          print('answer is', num1-num2) \n",
    "      elif choice == '3':\n",
    "          num1 = float(input('enter first number:'))\n",
    "          num2 = float(input('enter second number:'))\n",
    "          print('first number:',num1)\n",
    "          print('second number:',num2)\n",
    "          print('answer is', num1*num2) \n",
    "      elif choice == '4':\n",
    "          num1 = float(input('enter first number:'))\n",
    "          num2 = float(input('enter second number:'))\n",
    "          print('first number:',num1)\n",
    "          print('second number:',num2)\n",
    "          if num2 != 0:\n",
    "            print('answer is', num1/num2)\n",
    "          else:\n",
    "              print('invalid input')\n",
    "      elif choice == '5':\n",
    "          num = float(input('enter  number:'))\n",
    "          print('number:',num)\n",
    "          print('answer is', num**2) \n",
    "      elif choice == '6':\n",
    "          num = float(input('enter number:'))\n",
    "          print('number:',num)\n",
    "          if num > 0:\n",
    "            print('answer is', math.sqrt(num))\n",
    "          else:\n",
    "              print('invalid input') \n",
    "      elif choice == '7':\n",
    "          print('exit')\n",
    "          break\n",
    "      else:\n",
    "          print('invalid input')\n",
    "answer = calculater()"
   ]
  },
  {
   "cell_type": "code",
   "execution_count": null,
   "id": "4f716ddb-83ee-4803-b714-b191afdaa588",
   "metadata": {},
   "outputs": [],
   "source": []
  },
  {
   "cell_type": "code",
   "execution_count": null,
   "id": "ba9727a5-1581-42ea-bd3e-b1d5f409b9e2",
   "metadata": {},
   "outputs": [],
   "source": []
  }
 ],
 "metadata": {
  "kernelspec": {
   "display_name": "Python [conda env:base] *",
   "language": "python",
   "name": "conda-base-py"
  },
  "language_info": {
   "codemirror_mode": {
    "name": "ipython",
    "version": 3
   },
   "file_extension": ".py",
   "mimetype": "text/x-python",
   "name": "python",
   "nbconvert_exporter": "python",
   "pygments_lexer": "ipython3",
   "version": "3.13.5"
  }
 },
 "nbformat": 4,
 "nbformat_minor": 5
}
